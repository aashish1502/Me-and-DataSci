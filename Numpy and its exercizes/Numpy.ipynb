{
  "nbformat": 4,
  "nbformat_minor": 0,
  "metadata": {
    "colab": {
      "name": "Numpy.ipynb",
      "provenance": [],
      "collapsed_sections": [
        "9MtJ0w798IQb",
        "dOMJDAxr9q2N",
        "cGMYYWr2AqvZ"
      ]
    },
    "kernelspec": {
      "name": "python3",
      "display_name": "Python 3"
    }
  },
  "cells": [
    {
      "cell_type": "markdown",
      "metadata": {
        "id": "VztSpsu436mH",
        "colab_type": "text"
      },
      "source": [
        "#Importing the numpy module"
      ]
    },
    {
      "cell_type": "code",
      "metadata": {
        "id": "Kr8sx4cO3yKJ",
        "colab_type": "code",
        "colab": {}
      },
      "source": [
        "import numpy as np"
      ],
      "execution_count": 0,
      "outputs": []
    },
    {
      "cell_type": "markdown",
      "metadata": {
        "id": "2Z2BT7mg4FZp",
        "colab_type": "text"
      },
      "source": [
        "##Creating a numpy array"
      ]
    },
    {
      "cell_type": "code",
      "metadata": {
        "id": "6rkzcDhH34SH",
        "colab_type": "code",
        "outputId": "7debbc12-385d-4c22-8e83-0b2841bdfcf2",
        "colab": {
          "base_uri": "https://localhost:8080/",
          "height": 70
        }
      },
      "source": [
        "a=np.array([1,2,3])\n",
        "b=np.array([1,2,3,4.55,6], dtype = np.int32)\n",
        "b1=np.array([1,2,3,4.55,6], dtype = float)\n",
        "print(a)\n",
        "print(b)\n",
        "print(b1)"
      ],
      "execution_count": 0,
      "outputs": [
        {
          "output_type": "stream",
          "text": [
            "[1 2 3]\n",
            "[1 2 3 4 6]\n",
            "[1.   2.   3.   4.55 6.  ]\n"
          ],
          "name": "stdout"
        }
      ]
    },
    {
      "cell_type": "markdown",
      "metadata": {
        "id": "-32JfZ4D4OIl",
        "colab_type": "text"
      },
      "source": [
        "##creating a 2-D and a 3-D array"
      ]
    },
    {
      "cell_type": "code",
      "metadata": {
        "id": "PvtwgQmA4LW4",
        "colab_type": "code",
        "outputId": "0beb8103-2072-46f9-b2fd-8b2ab021a5b5",
        "colab": {
          "base_uri": "https://localhost:8080/",
          "height": 70
        }
      },
      "source": [
        "my_mat = [[1,2,3], [4,5,6],[7,8,9] ]\n",
        "s=np.array(my_mat)\n",
        "print(s)"
      ],
      "execution_count": 0,
      "outputs": [
        {
          "output_type": "stream",
          "text": [
            "[[1 2 3]\n",
            " [4 5 6]\n",
            " [7 8 9]]\n"
          ],
          "name": "stdout"
        }
      ]
    },
    {
      "cell_type": "markdown",
      "metadata": {
        "id": "MhHkJqbS6Dff",
        "colab_type": "text"
      },
      "source": [
        "##Creating a vector of various types "
      ]
    },
    {
      "cell_type": "code",
      "metadata": {
        "id": "hWBZjVeG6BLs",
        "colab_type": "code",
        "outputId": "8b42b116-829c-446e-bbf8-4c1a971b2601",
        "colab": {
          "base_uri": "https://localhost:8080/",
          "height": 316
        }
      },
      "source": [
        "a=np.linspace(0,5,100)\n",
        "print(a)"
      ],
      "execution_count": 0,
      "outputs": [
        {
          "output_type": "stream",
          "text": [
            "[0.         0.05050505 0.1010101  0.15151515 0.2020202  0.25252525\n",
            " 0.3030303  0.35353535 0.4040404  0.45454545 0.50505051 0.55555556\n",
            " 0.60606061 0.65656566 0.70707071 0.75757576 0.80808081 0.85858586\n",
            " 0.90909091 0.95959596 1.01010101 1.06060606 1.11111111 1.16161616\n",
            " 1.21212121 1.26262626 1.31313131 1.36363636 1.41414141 1.46464646\n",
            " 1.51515152 1.56565657 1.61616162 1.66666667 1.71717172 1.76767677\n",
            " 1.81818182 1.86868687 1.91919192 1.96969697 2.02020202 2.07070707\n",
            " 2.12121212 2.17171717 2.22222222 2.27272727 2.32323232 2.37373737\n",
            " 2.42424242 2.47474747 2.52525253 2.57575758 2.62626263 2.67676768\n",
            " 2.72727273 2.77777778 2.82828283 2.87878788 2.92929293 2.97979798\n",
            " 3.03030303 3.08080808 3.13131313 3.18181818 3.23232323 3.28282828\n",
            " 3.33333333 3.38383838 3.43434343 3.48484848 3.53535354 3.58585859\n",
            " 3.63636364 3.68686869 3.73737374 3.78787879 3.83838384 3.88888889\n",
            " 3.93939394 3.98989899 4.04040404 4.09090909 4.14141414 4.19191919\n",
            " 4.24242424 4.29292929 4.34343434 4.39393939 4.44444444 4.49494949\n",
            " 4.54545455 4.5959596  4.64646465 4.6969697  4.74747475 4.7979798\n",
            " 4.84848485 4.8989899  4.94949495 5.        ]\n"
          ],
          "name": "stdout"
        }
      ]
    },
    {
      "cell_type": "markdown",
      "metadata": {
        "id": "Jr2yXT0i6UtY",
        "colab_type": "text"
      },
      "source": [
        "###The syntax is  np.arange(start, (end+1) , step(if any) )"
      ]
    },
    {
      "cell_type": "code",
      "metadata": {
        "id": "E8V25Lut6OPK",
        "colab_type": "code",
        "outputId": "7e61aaf3-a064-43ae-d725-a24226203498",
        "colab": {
          "base_uri": "https://localhost:8080/",
          "height": 34
        }
      },
      "source": [
        "s1=np.arange(0,11,2)\n",
        "print(s1)"
      ],
      "execution_count": 0,
      "outputs": [
        {
          "output_type": "stream",
          "text": [
            "[ 0  2  4  6  8 10]\n"
          ],
          "name": "stdout"
        }
      ]
    },
    {
      "cell_type": "markdown",
      "metadata": {
        "id": "DeWIGShW6jaD",
        "colab_type": "text"
      },
      "source": [
        "### Create an identity matrix"
      ]
    },
    {
      "cell_type": "code",
      "metadata": {
        "id": "olkEqNjj6fb8",
        "colab_type": "code",
        "outputId": "e28ea07a-ad62-454e-8099-871928c914f6",
        "colab": {
          "base_uri": "https://localhost:8080/",
          "height": 87
        }
      },
      "source": [
        "s2= np.eye(4)\n",
        "print(s2)"
      ],
      "execution_count": 0,
      "outputs": [
        {
          "output_type": "stream",
          "text": [
            "[[1. 0. 0. 0.]\n",
            " [0. 1. 0. 0.]\n",
            " [0. 0. 1. 0.]\n",
            " [0. 0. 0. 1.]]\n"
          ],
          "name": "stdout"
        }
      ]
    },
    {
      "cell_type": "markdown",
      "metadata": {
        "id": "h-A-0ie37A6r",
        "colab_type": "text"
      },
      "source": [
        "##It is improtant to pass a tuple for the creation of a zero array"
      ]
    },
    {
      "cell_type": "code",
      "metadata": {
        "id": "-tTB6cPD6o-3",
        "colab_type": "code",
        "outputId": "ddf9eb96-cae4-4345-91ad-db8d1ecf9215",
        "colab": {
          "base_uri": "https://localhost:8080/",
          "height": 70
        }
      },
      "source": [
        "s3=np.zeros((3,4))\n",
        "print(s3)"
      ],
      "execution_count": 0,
      "outputs": [
        {
          "output_type": "stream",
          "text": [
            "[[0. 0. 0. 0.]\n",
            " [0. 0. 0. 0.]\n",
            " [0. 0. 0. 0.]]\n"
          ],
          "name": "stdout"
        }
      ]
    },
    {
      "cell_type": "code",
      "metadata": {
        "id": "yN4x7bVd6-Zy",
        "colab_type": "code",
        "outputId": "2beb9faa-e779-4b55-8eb8-577887661d17",
        "colab": {
          "base_uri": "https://localhost:8080/",
          "height": 70
        }
      },
      "source": [
        "s4=np.ones((3,4),dtype = float)\n",
        "s4"
      ],
      "execution_count": 0,
      "outputs": [
        {
          "output_type": "execute_result",
          "data": {
            "text/plain": [
              "array([[1., 1., 1., 1.],\n",
              "       [1., 1., 1., 1.],\n",
              "       [1., 1., 1., 1.]])"
            ]
          },
          "metadata": {
            "tags": []
          },
          "execution_count": 31
        }
      ]
    },
    {
      "cell_type": "markdown",
      "metadata": {
        "id": "48vLQgm97aQ7",
        "colab_type": "text"
      },
      "source": [
        "To create an array of random numbers  we use np.random.rand(diamension)"
      ]
    },
    {
      "cell_type": "code",
      "metadata": {
        "id": "MoqAbrNC7K1_",
        "colab_type": "code",
        "outputId": "f19cf667-7a92-4a4a-fbd9-c7cf423a83e0",
        "colab": {
          "base_uri": "https://localhost:8080/",
          "height": 70
        }
      },
      "source": [
        "#This doesn't requrie us to pass a tuple for the creation of a radom array\n",
        "s4 = np.random.rand(3,4)\n",
        "print(s4)"
      ],
      "execution_count": 0,
      "outputs": [
        {
          "output_type": "stream",
          "text": [
            "[[0.07257128 0.66999563 0.51038686 0.66236631]\n",
            " [0.1554635  0.85439514 0.77440361 0.57536514]\n",
            " [0.09421892 0.07279712 0.9345516  0.65407346]]\n"
          ],
          "name": "stdout"
        }
      ]
    },
    {
      "cell_type": "markdown",
      "metadata": {
        "id": "9MtJ0w798IQb",
        "colab_type": "text"
      },
      "source": [
        "### if we into gaussian stuff we can use the argument np.random.randn(diamension)"
      ]
    },
    {
      "cell_type": "code",
      "metadata": {
        "id": "mve9_2PZ7qwc",
        "colab_type": "code",
        "outputId": "7251e76b-097c-490f-b091-0995c95dd1d7",
        "colab": {
          "base_uri": "https://localhost:8080/",
          "height": 70
        }
      },
      "source": [
        "s5 = np.random.randn(3,4)\n",
        "print(s5)"
      ],
      "execution_count": 0,
      "outputs": [
        {
          "output_type": "stream",
          "text": [
            "[[ 0.26980866  0.82824417 -0.49462774 -0.37618661]\n",
            " [ 0.86876525  1.54250358  1.37608474 -0.08202692]\n",
            " [-0.15463814 -1.05156683 -1.43003223 -1.01883592]]\n"
          ],
          "name": "stdout"
        }
      ]
    },
    {
      "cell_type": "markdown",
      "metadata": {
        "id": "WA2rs2KU8b_X",
        "colab_type": "text"
      },
      "source": [
        "If we only need random integers we use the function np.random.randint(start,end,diamension)"
      ]
    },
    {
      "cell_type": "code",
      "metadata": {
        "id": "xFskZtnl8T6h",
        "colab_type": "code",
        "outputId": "f92942e2-33d4-459e-a03a-dec8ef3739a7",
        "colab": {
          "base_uri": "https://localhost:8080/",
          "height": 105
        }
      },
      "source": [
        "s6=np.random.randint(1,20000)\n",
        "s7 =np.random.randint(1,20000,12)\n",
        "#In this we are required to pass a tuple for the diamension if they are 2-d or 3-d\n",
        "s8 = np.random.randint(1,20000,(3,4))\n",
        "print(s6)\n",
        "print(s7)\n",
        "print(s8)"
      ],
      "execution_count": 0,
      "outputs": [
        {
          "output_type": "stream",
          "text": [
            "7572\n",
            "[16883  2799 12618 13470 17952  3156  9912  8267 12168  7615 10433 10579]\n",
            "[[ 1915 16699  1473 17072]\n",
            " [19436  4974  5362  3621]\n",
            " [ 9400  2105 15361  4212]]\n"
          ],
          "name": "stdout"
        }
      ]
    },
    {
      "cell_type": "markdown",
      "metadata": {
        "id": "GNu52-5H9Us4",
        "colab_type": "text"
      },
      "source": [
        "#An application of array using numpy"
      ]
    },
    {
      "cell_type": "markdown",
      "metadata": {
        "id": "dOMJDAxr9q2N",
        "colab_type": "text"
      },
      "source": [
        "### If you want to reshape an array to a different diamension then we use the thing called reshape "
      ]
    },
    {
      "cell_type": "code",
      "metadata": {
        "id": "NllYsJTf8ziP",
        "colab_type": "code",
        "outputId": "ec95d9c7-baf7-439c-b97d-f171fe76273d",
        "colab": {
          "base_uri": "https://localhost:8080/",
          "height": 52
        }
      },
      "source": [
        "s1=np.arange(25)\n",
        "print(s1)"
      ],
      "execution_count": 0,
      "outputs": [
        {
          "output_type": "stream",
          "text": [
            "[ 0  1  2  3  4  5  6  7  8  9 10 11 12 13 14 15 16 17 18 19 20 21 22 23\n",
            " 24]\n"
          ],
          "name": "stdout"
        }
      ]
    },
    {
      "cell_type": "code",
      "metadata": {
        "id": "i7lRTSHk-xxA",
        "colab_type": "code",
        "outputId": "400f6dc6-5c14-44c1-df24-80bf1faa0597",
        "colab": {
          "base_uri": "https://localhost:8080/",
          "height": 34
        }
      },
      "source": [
        "s2=np.random.randint(0,50,10)\n",
        "print(s2)"
      ],
      "execution_count": 0,
      "outputs": [
        {
          "output_type": "stream",
          "text": [
            "[44 41  2 44 18 29  6 26 42 40]\n"
          ],
          "name": "stdout"
        }
      ]
    },
    {
      "cell_type": "code",
      "metadata": {
        "id": "GbtWfMTV-8Px",
        "colab_type": "code",
        "outputId": "2b45be95-94e2-406a-ea06-8b91c50334dd",
        "colab": {
          "base_uri": "https://localhost:8080/",
          "height": 105
        }
      },
      "source": [
        "s1.reshape(5,5)"
      ],
      "execution_count": 0,
      "outputs": [
        {
          "output_type": "execute_result",
          "data": {
            "text/plain": [
              "array([[ 0,  1,  2,  3,  4],\n",
              "       [ 5,  6,  7,  8,  9],\n",
              "       [10, 11, 12, 13, 14],\n",
              "       [15, 16, 17, 18, 19],\n",
              "       [20, 21, 22, 23, 24]])"
            ]
          },
          "metadata": {
            "tags": []
          },
          "execution_count": 56
        }
      ]
    },
    {
      "cell_type": "markdown",
      "metadata": {
        "id": "VBcDMs2BAYDc",
        "colab_type": "text"
      },
      "source": [
        "#Indexing and Selection"
      ]
    },
    {
      "cell_type": "code",
      "metadata": {
        "id": "-1E4eeo1_Ap9",
        "colab_type": "code",
        "outputId": "4c241bf4-fe89-43e4-c97e-8c5a9547ad00",
        "colab": {
          "base_uri": "https://localhost:8080/",
          "height": 34
        }
      },
      "source": [
        "#create a sample array\n",
        "arr = np.arange(0,11)\n",
        "print(arr)"
      ],
      "execution_count": 0,
      "outputs": [
        {
          "output_type": "stream",
          "text": [
            "[ 0  1  2  3  4  5  6  7  8  9 10]\n"
          ],
          "name": "stdout"
        }
      ]
    },
    {
      "cell_type": "markdown",
      "metadata": {
        "id": "cGMYYWr2AqvZ",
        "colab_type": "text"
      },
      "source": [
        "###The indexing of the array is similar to python list"
      ]
    },
    {
      "cell_type": "code",
      "metadata": {
        "id": "mPy8c7rAAj2D",
        "colab_type": "code",
        "outputId": "2b022ade-fed7-40c2-dbed-1071b36fa324",
        "colab": {
          "base_uri": "https://localhost:8080/",
          "height": 52
        }
      },
      "source": [
        "print(arr[8])\n",
        "print(arr[1:4:])"
      ],
      "execution_count": 0,
      "outputs": [
        {
          "output_type": "stream",
          "text": [
            "8\n",
            "[1 2 3]\n"
          ],
          "name": "stdout"
        }
      ]
    },
    {
      "cell_type": "code",
      "metadata": {
        "id": "jEwb5CvGA28s",
        "colab_type": "code",
        "outputId": "5c5c2c4d-13e3-4606-e79a-d83296e11c7b",
        "colab": {
          "base_uri": "https://localhost:8080/",
          "height": 34
        }
      },
      "source": [
        "#if we want to  change the value of some elements to a specific value\n",
        "arr[:5:]=100\n",
        "arr"
      ],
      "execution_count": 0,
      "outputs": [
        {
          "output_type": "execute_result",
          "data": {
            "text/plain": [
              "array([100, 100, 100, 100, 100,   5,   6,   7,   8,   9,  10])"
            ]
          },
          "metadata": {
            "tags": []
          },
          "execution_count": 61
        }
      ]
    },
    {
      "cell_type": "code",
      "metadata": {
        "id": "9jrkScagBV5D",
        "colab_type": "code",
        "outputId": "3e39b110-6c75-4070-c7c0-7103db34f18c",
        "colab": {
          "base_uri": "https://localhost:8080/",
          "height": 34
        }
      },
      "source": [
        "arr=np.arange(0,11)\n",
        "print(arr)"
      ],
      "execution_count": 0,
      "outputs": [
        {
          "output_type": "stream",
          "text": [
            "[ 0  1  2  3  4  5  6  7  8  9 10]\n"
          ],
          "name": "stdout"
        }
      ]
    },
    {
      "cell_type": "code",
      "metadata": {
        "id": "SGmeHhqABdD0",
        "colab_type": "code",
        "outputId": "f16f6ff3-70e3-4acf-8654-2fc915ce74a8",
        "colab": {
          "base_uri": "https://localhost:8080/",
          "height": 70
        }
      },
      "source": [
        "arr= np.array([[5,10,15],[20,25,30],[35,40,45]])\n",
        "arr"
      ],
      "execution_count": 0,
      "outputs": [
        {
          "output_type": "execute_result",
          "data": {
            "text/plain": [
              "array([[ 5, 10, 15],\n",
              "       [20, 25, 30],\n",
              "       [35, 40, 45]])"
            ]
          },
          "metadata": {
            "tags": []
          },
          "execution_count": 67
        }
      ]
    },
    {
      "cell_type": "markdown",
      "metadata": {
        "id": "QQCgcNPUCUpe",
        "colab_type": "text"
      },
      "source": [
        "To index a 2d array we use two ways"
      ]
    },
    {
      "cell_type": "code",
      "metadata": {
        "id": "PuO6G2FZCJqh",
        "colab_type": "code",
        "outputId": "32d3d3a0-bcdb-4f45-9c88-8ff6f7fb4345",
        "colab": {
          "base_uri": "https://localhost:8080/",
          "height": 52
        }
      },
      "source": [
        "print(arr[0])\n",
        "print(arr[0][0])"
      ],
      "execution_count": 0,
      "outputs": [
        {
          "output_type": "stream",
          "text": [
            "[ 5 10 15]\n",
            "5\n"
          ],
          "name": "stdout"
        }
      ]
    },
    {
      "cell_type": "markdown",
      "metadata": {
        "id": "BPyHbp0JCk1w",
        "colab_type": "text"
      },
      "source": [
        "Or you can use"
      ]
    },
    {
      "cell_type": "code",
      "metadata": {
        "id": "p0hJdBjMCbCa",
        "colab_type": "code",
        "outputId": "24979e23-c4d0-4b39-8b48-aad2c00a7a1b",
        "colab": {
          "base_uri": "https://localhost:8080/",
          "height": 52
        }
      },
      "source": [
        "print(arr[2,1])\n",
        "print(arr[0,0])"
      ],
      "execution_count": 0,
      "outputs": [
        {
          "output_type": "stream",
          "text": [
            "40\n",
            "5\n"
          ],
          "name": "stdout"
        }
      ]
    },
    {
      "cell_type": "code",
      "metadata": {
        "id": "tivgQHRvCoQR",
        "colab_type": "code",
        "outputId": "0236d69f-4d11-42a2-bd0d-9182af7f4dcb",
        "colab": {
          "base_uri": "https://localhost:8080/",
          "height": 87
        }
      },
      "source": [
        "print(arr[:2])\n",
        "print(arr[:2,1:])"
      ],
      "execution_count": 0,
      "outputs": [
        {
          "output_type": "stream",
          "text": [
            "[[ 5 10 15]\n",
            " [20 25 30]]\n",
            "[[10 15]\n",
            " [25 30]]\n"
          ],
          "name": "stdout"
        }
      ]
    },
    {
      "cell_type": "markdown",
      "metadata": {
        "id": "v_EmZFqlDlmw",
        "colab_type": "text"
      },
      "source": [
        "#If you want to do some conditional selection"
      ]
    },
    {
      "cell_type": "code",
      "metadata": {
        "id": "PTdLQtRYC_19",
        "colab_type": "code",
        "colab": {}
      },
      "source": [
        "arr=np.arange(0,11)"
      ],
      "execution_count": 0,
      "outputs": []
    },
    {
      "cell_type": "code",
      "metadata": {
        "id": "lk3GP3zRDs7T",
        "colab_type": "code",
        "colab": {}
      },
      "source": [
        "p=np.array([0,1,2,3,4,5,6,7,8,9,10])"
      ],
      "execution_count": 0,
      "outputs": []
    },
    {
      "cell_type": "code",
      "metadata": {
        "id": "Snpx7I2aDts1",
        "colab_type": "code",
        "outputId": "73b366fa-cef6-40e9-f2f5-b939c22783cf",
        "colab": {
          "base_uri": "https://localhost:8080/",
          "height": 52
        }
      },
      "source": [
        "s = p > 5 \n",
        "s"
      ],
      "execution_count": 0,
      "outputs": [
        {
          "output_type": "execute_result",
          "data": {
            "text/plain": [
              "array([False, False, False, False, False, False,  True,  True,  True,\n",
              "        True,  True])"
            ]
          },
          "metadata": {
            "tags": []
          },
          "execution_count": 92
        }
      ]
    },
    {
      "cell_type": "code",
      "metadata": {
        "id": "I8ULATeQDxek",
        "colab_type": "code",
        "outputId": "d69ab43c-d4ca-4936-eb3b-7e0fbce1315d",
        "colab": {
          "base_uri": "https://localhost:8080/",
          "height": 34
        }
      },
      "source": [
        "p[s]"
      ],
      "execution_count": 0,
      "outputs": [
        {
          "output_type": "execute_result",
          "data": {
            "text/plain": [
              "array([ 6,  7,  8,  9, 10])"
            ]
          },
          "metadata": {
            "tags": []
          },
          "execution_count": 93
        }
      ]
    },
    {
      "cell_type": "code",
      "metadata": {
        "id": "D4ti8sAND4UJ",
        "colab_type": "code",
        "outputId": "86530bf1-068c-4dcb-f526-9d32ac6d62c2",
        "colab": {
          "base_uri": "https://localhost:8080/",
          "height": 105
        }
      },
      "source": [
        "array_2d = np.arange(50).reshape(5,10)\n",
        "print(array_2d)"
      ],
      "execution_count": 0,
      "outputs": [
        {
          "output_type": "stream",
          "text": [
            "[[ 0  1  2  3  4  5  6  7  8  9]\n",
            " [10 11 12 13 14 15 16 17 18 19]\n",
            " [20 21 22 23 24 25 26 27 28 29]\n",
            " [30 31 32 33 34 35 36 37 38 39]\n",
            " [40 41 42 43 44 45 46 47 48 49]]\n"
          ],
          "name": "stdout"
        }
      ]
    },
    {
      "cell_type": "code",
      "metadata": {
        "id": "yTspfVbKFcLf",
        "colab_type": "code",
        "outputId": "a62a6a03-a7ed-49a1-c9d3-ef245b5c0a0c",
        "colab": {
          "base_uri": "https://localhost:8080/",
          "height": 52
        }
      },
      "source": [
        "array_2d[3:5,5:8]"
      ],
      "execution_count": 0,
      "outputs": [
        {
          "output_type": "execute_result",
          "data": {
            "text/plain": [
              "array([[35, 36, 37],\n",
              "       [45, 46, 47]])"
            ]
          },
          "metadata": {
            "tags": []
          },
          "execution_count": 96
        }
      ]
    },
    {
      "cell_type": "markdown",
      "metadata": {
        "id": "75WYqOkhGW__",
        "colab_type": "text"
      },
      "source": [
        "#Array operations"
      ]
    },
    {
      "cell_type": "code",
      "metadata": {
        "id": "xfel0xBiFsEq",
        "colab_type": "code",
        "colab": {}
      },
      "source": [
        "a1 = np.arange(0,11)"
      ],
      "execution_count": 0,
      "outputs": []
    },
    {
      "cell_type": "code",
      "metadata": {
        "id": "G870OKo0Gcb8",
        "colab_type": "code",
        "outputId": "44e34998-f141-4096-9528-b7fee6108431",
        "colab": {
          "base_uri": "https://localhost:8080/",
          "height": 87
        }
      },
      "source": [
        "print(a1+a1)\n",
        "print(a1*2)\n",
        "print(a1+100)\n",
        "print(a1//2)"
      ],
      "execution_count": 0,
      "outputs": [
        {
          "output_type": "stream",
          "text": [
            "[ 0  2  4  6  8 10 12 14 16 18 20]\n",
            "[ 0  2  4  6  8 10 12 14 16 18 20]\n",
            "[100 101 102 103 104 105 106 107 108 109 110]\n",
            "[0 0 1 1 2 2 3 3 4 4 5]\n"
          ],
          "name": "stdout"
        }
      ]
    },
    {
      "cell_type": "code",
      "metadata": {
        "id": "h9HPY7txGeoZ",
        "colab_type": "code",
        "outputId": "fd17fc8e-d2b4-45f8-b8f5-a12f9b7f7af5",
        "colab": {
          "base_uri": "https://localhost:8080/",
          "height": 140
        }
      },
      "source": [
        "print(a1/a1)\n",
        "print(1/a1)"
      ],
      "execution_count": 0,
      "outputs": [
        {
          "output_type": "stream",
          "text": [
            "[nan  1.  1.  1.  1.  1.  1.  1.  1.  1.  1.]\n",
            "[       inf 1.         0.5        0.33333333 0.25       0.2\n",
            " 0.16666667 0.14285714 0.125      0.11111111 0.1       ]\n"
          ],
          "name": "stdout"
        },
        {
          "output_type": "stream",
          "text": [
            "/usr/local/lib/python3.6/dist-packages/ipykernel_launcher.py:1: RuntimeWarning: invalid value encountered in true_divide\n",
            "  \"\"\"Entry point for launching an IPython kernel.\n",
            "/usr/local/lib/python3.6/dist-packages/ipykernel_launcher.py:2: RuntimeWarning: divide by zero encountered in true_divide\n",
            "  \n"
          ],
          "name": "stderr"
        }
      ]
    },
    {
      "cell_type": "code",
      "metadata": {
        "id": "yLLzJC5FGvNn",
        "colab_type": "code",
        "outputId": "3d65bd7b-bc75-4a0f-d930-7b0770228438",
        "colab": {
          "base_uri": "https://localhost:8080/",
          "height": 52
        }
      },
      "source": [
        "print(np.sqrt(a1))"
      ],
      "execution_count": 0,
      "outputs": [
        {
          "output_type": "stream",
          "text": [
            "[0.         1.         1.41421356 1.73205081 2.         2.23606798\n",
            " 2.44948974 2.64575131 2.82842712 3.         3.16227766]\n"
          ],
          "name": "stdout"
        }
      ]
    },
    {
      "cell_type": "code",
      "metadata": {
        "id": "epCa3VQYHO0m",
        "colab_type": "code",
        "colab": {}
      },
      "source": [
        ""
      ],
      "execution_count": 0,
      "outputs": []
    }
  ]
}